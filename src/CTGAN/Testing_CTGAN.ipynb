{
 "cells": [
  {
   "cell_type": "code",
   "id": "initial_id",
   "metadata": {
    "collapsed": true,
    "ExecuteTime": {
     "end_time": "2025-05-19T07:39:09.019636Z",
     "start_time": "2025-05-19T07:39:09.013844Z"
    }
   },
   "source": [
    "import pandas as pd\n",
    "from sdv.single_table import CTGANSynthesizer\n",
    "from sdv.metadata import SingleTableMetadata"
   ],
   "outputs": [],
   "execution_count": 13
  },
  {
   "metadata": {
    "ExecuteTime": {
     "end_time": "2025-05-19T07:39:52.406625Z",
     "start_time": "2025-05-19T07:39:52.346220Z"
    }
   },
   "cell_type": "code",
   "source": [
    "# 1. Datensatz laden\n",
    "input_path = \"../../data/original_data_encoded/encoded_dataset_schema.csv\"\n",
    "df = pd.read_csv(input_path)"
   ],
   "id": "d857af6ba8620ada",
   "outputs": [],
   "execution_count": 16
  },
  {
   "metadata": {
    "ExecuteTime": {
     "end_time": "2025-05-19T07:39:53.458004Z",
     "start_time": "2025-05-19T07:39:53.429760Z"
    }
   },
   "cell_type": "code",
   "source": [
    "\n",
    "# 2. Metadaten automatisch generieren\n",
    "metadata = SingleTableMetadata()\n",
    "metadata.detect_from_dataframe(data=df)\n",
    "\n",
    "# 3. Ordinale Spalten setzen\n",
    "ordinal_columns = [\n",
    "    'alter', 'konsumhaeufigkeit',\n",
    "    'situation_freunde_familie', 'situation_party', 'situation_zuhause_essen',\n",
    "    'situation_zuhause_entspannung', 'situation_oeffentliche_veranstaltungen',\n",
    "    'situation_gastro', 'situation_urlaub',\n",
    "    'involvement_interesse', 'involvement_rolle', 'involvement_spass',\n",
    "    'involvement_wichtigkeit', 'involvement_vorteilhaft', 'involvement_unverzichtbar',\n",
    "    'gesundheit_wichtig', 'umweltfreundlich_wichtig', 'neue_produkte_probie',\n",
    "    'bio_mehrpreis_bereit', 'tierfrei_wichtig', 'alkoholverzicht_wichtig',\n",
    "    'einfluss_geschmack', 'einfluss_geruch', 'einfluss_preis', 'einfluss_markenbekanntheit',\n",
    "    'einfluss_nachhaltigkeit', 'einfluss_herkunft', 'einfluss_verpackungsdesign',\n",
    "    'einfluss_verpackungsform', 'einfluss_aktionsangebote', 'einfluss_alkoholgehalt',\n",
    "    'einfluss_empfehlung', 'einfluss_verfuegbarkeit',\n",
    "    'praef_sorte_alkoholfrei', 'praef_sorte_weizen', 'praef_sorte_koelsch',\n",
    "    'praef_sorte_altbier', 'praef_sorte_pale_ale', 'praef_sorte_stout',\n",
    "    'praef_sorte_maerzen_export', 'praef_sorte_radler', 'praef_sorte_pils',\n",
    "    'praef_sorte_bock_schwarzrauchbier', 'praef_sorte_helles_lager', 'praef_sorte_craft_beer',\n",
    "    'praef_alkoholfrei_0', 'praef_alkoholfrei_0_5', 'praef_bier_alkohol',\n",
    "    'geschmack_rauchig', 'geschmack_hopfig', 'geschmack_suesslich_malzig',\n",
    "    'geschmack_fruchtig', 'geschmack_kraeuter', 'geschmack_gewuerze',\n",
    "    'geschmack_bitter', 'geschmack_saeuerlich', 'geschmack_zitrus'\n",
    "]\n",
    "\n",
    "# Ordinale Spalten als numerisch kennzeichnen (ohne subtype oder computer_representation)\n",
    "for col in ordinal_columns:\n",
    "    metadata.update_column(column_name=col, sdtype='numerical')"
   ],
   "id": "92941e5be77d8bcc",
   "outputs": [],
   "execution_count": 17
  },
  {
   "metadata": {
    "ExecuteTime": {
     "end_time": "2025-05-15T18:48:47.322165Z",
     "start_time": "2025-05-15T18:48:28.908531Z"
    }
   },
   "cell_type": "code",
   "source": [
    "\n",
    "# 4. Modell initialisieren\n",
    "synthesizer = CTGANSynthesizer(metadata)\n",
    "\n",
    "# 5. Training\n",
    "print(\"🚀 Training CTGAN...\")\n",
    "synthesizer.fit(df)"
   ],
   "id": "7ce7f4c2e810e729",
   "outputs": [
    {
     "ename": "InvalidMetadataError",
     "evalue": "Invalid sdtype: 'ordinal' is not recognized. Please use one of the supported SDV sdtypes.",
     "output_type": "error",
     "traceback": [
      "\u001B[31m---------------------------------------------------------------------------\u001B[39m",
      "\u001B[31mInvalidMetadataError\u001B[39m                      Traceback (most recent call last)",
      "\u001B[36mCell\u001B[39m\u001B[36m \u001B[39m\u001B[32mIn[5]\u001B[39m\u001B[32m, line 8\u001B[39m\n\u001B[32m      6\u001B[39m \u001B[38;5;28;01mfor\u001B[39;00m column \u001B[38;5;129;01min\u001B[39;00m ordinal_columns:\n\u001B[32m      7\u001B[39m     \u001B[38;5;28;01mif\u001B[39;00m column \u001B[38;5;129;01min\u001B[39;00m df.columns:\n\u001B[32m----> \u001B[39m\u001B[32m8\u001B[39m         \u001B[43mmetadata\u001B[49m\u001B[43m.\u001B[49m\u001B[43mupdate_column\u001B[49m\u001B[43m(\u001B[49m\u001B[43mcolumn_name\u001B[49m\u001B[43m=\u001B[49m\u001B[43mcolumn\u001B[49m\u001B[43m,\u001B[49m\u001B[43m \u001B[49m\u001B[43msdtype\u001B[49m\u001B[43m=\u001B[49m\u001B[33;43m'\u001B[39;49m\u001B[33;43mordinal\u001B[39;49m\u001B[33;43m'\u001B[39;49m\u001B[43m)\u001B[49m\n\u001B[32m     10\u001B[39m \u001B[38;5;66;03m# 4. CTGAN-Synthesizer initialisieren\u001B[39;00m\n\u001B[32m     11\u001B[39m synthesizer = CTGANSynthesizer(\n\u001B[32m     12\u001B[39m     metadata=metadata,\n\u001B[32m     13\u001B[39m     epochs=\u001B[32m300\u001B[39m,\n\u001B[32m   (...)\u001B[39m\u001B[32m     19\u001B[39m     random_state=\u001B[32m42\u001B[39m\n\u001B[32m     20\u001B[39m )\n",
      "\u001B[36mFile \u001B[39m\u001B[32m~\\PycharmProjects\\Bierprojekt\\.venv\\Lib\\site-packages\\sdv\\metadata\\single_table.py:330\u001B[39m, in \u001B[36mSingleTableMetadata.update_column\u001B[39m\u001B[34m(self, column_name, **kwargs)\u001B[39m\n\u001B[32m    312\u001B[39m \u001B[38;5;28;01mdef\u001B[39;00m\u001B[38;5;250m \u001B[39m\u001B[34mupdate_column\u001B[39m(\u001B[38;5;28mself\u001B[39m, column_name, **kwargs):\n\u001B[32m    313\u001B[39m \u001B[38;5;250m    \u001B[39m\u001B[33;03m\"\"\"Update an existing column in the ``SingleTableMetadata``.\u001B[39;00m\n\u001B[32m    314\u001B[39m \n\u001B[32m    315\u001B[39m \u001B[33;03m    Args:\u001B[39;00m\n\u001B[32m   (...)\u001B[39m\u001B[32m    328\u001B[39m \u001B[33;03m           present.\u001B[39;00m\n\u001B[32m    329\u001B[39m \u001B[33;03m    \"\"\"\u001B[39;00m\n\u001B[32m--> \u001B[39m\u001B[32m330\u001B[39m     \u001B[38;5;28;43mself\u001B[39;49m\u001B[43m.\u001B[49m\u001B[43m_validate_update_column\u001B[49m\u001B[43m(\u001B[49m\u001B[43mcolumn_name\u001B[49m\u001B[43m,\u001B[49m\u001B[43m \u001B[49m\u001B[43m*\u001B[49m\u001B[43m*\u001B[49m\u001B[43mkwargs\u001B[49m\u001B[43m)\u001B[49m\n\u001B[32m    331\u001B[39m     \u001B[38;5;28;01mif\u001B[39;00m \u001B[33m'\u001B[39m\u001B[33msdtype\u001B[39m\u001B[33m'\u001B[39m \u001B[38;5;129;01mnot\u001B[39;00m \u001B[38;5;129;01min\u001B[39;00m kwargs:\n\u001B[32m    332\u001B[39m         kwargs[\u001B[33m'\u001B[39m\u001B[33msdtype\u001B[39m\u001B[33m'\u001B[39m] = \u001B[38;5;28mself\u001B[39m.columns[column_name][\u001B[33m'\u001B[39m\u001B[33msdtype\u001B[39m\u001B[33m'\u001B[39m]\n",
      "\u001B[36mFile \u001B[39m\u001B[32m~\\PycharmProjects\\Bierprojekt\\.venv\\Lib\\site-packages\\sdv\\metadata\\single_table.py:310\u001B[39m, in \u001B[36mSingleTableMetadata._validate_update_column\u001B[39m\u001B[34m(self, column_name, **kwargs)\u001B[39m\n\u001B[32m    308\u001B[39m sdtype = kwargs.get(\u001B[33m'\u001B[39m\u001B[33msdtype\u001B[39m\u001B[33m'\u001B[39m, \u001B[38;5;28mself\u001B[39m.columns[column_name][\u001B[33m'\u001B[39m\u001B[33msdtype\u001B[39m\u001B[33m'\u001B[39m])\n\u001B[32m    309\u001B[39m kwargs_without_sdtype = {key: value \u001B[38;5;28;01mfor\u001B[39;00m key, value \u001B[38;5;129;01min\u001B[39;00m kwargs.items() \u001B[38;5;28;01mif\u001B[39;00m key != \u001B[33m'\u001B[39m\u001B[33msdtype\u001B[39m\u001B[33m'\u001B[39m}\n\u001B[32m--> \u001B[39m\u001B[32m310\u001B[39m \u001B[38;5;28;43mself\u001B[39;49m\u001B[43m.\u001B[49m\u001B[43m_validate_column_args\u001B[49m\u001B[43m(\u001B[49m\u001B[43mcolumn_name\u001B[49m\u001B[43m,\u001B[49m\u001B[43m \u001B[49m\u001B[43msdtype\u001B[49m\u001B[43m,\u001B[49m\u001B[43m \u001B[49m\u001B[43m*\u001B[49m\u001B[43m*\u001B[49m\u001B[43mkwargs_without_sdtype\u001B[49m\u001B[43m)\u001B[49m\n",
      "\u001B[36mFile \u001B[39m\u001B[32m~\\PycharmProjects\\Bierprojekt\\.venv\\Lib\\site-packages\\sdv\\metadata\\single_table.py:250\u001B[39m, in \u001B[36mSingleTableMetadata._validate_column_args\u001B[39m\u001B[34m(self, column_name, sdtype, **kwargs)\u001B[39m\n\u001B[32m    249\u001B[39m \u001B[38;5;28;01mdef\u001B[39;00m\u001B[38;5;250m \u001B[39m\u001B[34m_validate_column_args\u001B[39m(\u001B[38;5;28mself\u001B[39m, column_name, sdtype, **kwargs):\n\u001B[32m--> \u001B[39m\u001B[32m250\u001B[39m     \u001B[38;5;28;43mself\u001B[39;49m\u001B[43m.\u001B[49m\u001B[43m_validate_sdtype\u001B[49m\u001B[43m(\u001B[49m\u001B[43msdtype\u001B[49m\u001B[43m)\u001B[49m\n\u001B[32m    251\u001B[39m     \u001B[38;5;28mself\u001B[39m._validate_unexpected_kwargs(column_name, sdtype, **kwargs)\n\u001B[32m    252\u001B[39m     \u001B[38;5;28;01mif\u001B[39;00m sdtype == \u001B[33m'\u001B[39m\u001B[33mcategorical\u001B[39m\u001B[33m'\u001B[39m:\n",
      "\u001B[36mFile \u001B[39m\u001B[32m~\\PycharmProjects\\Bierprojekt\\.venv\\Lib\\site-packages\\sdv\\metadata\\single_table.py:244\u001B[39m, in \u001B[36mSingleTableMetadata._validate_sdtype\u001B[39m\u001B[34m(self, sdtype)\u001B[39m\n\u001B[32m    241\u001B[39m     \u001B[38;5;28;01mreturn\u001B[39;00m\n\u001B[32m    243\u001B[39m \u001B[38;5;28;01mif\u001B[39;00m \u001B[38;5;129;01mnot\u001B[39;00m is_faker_function(sdtype):\n\u001B[32m--> \u001B[39m\u001B[32m244\u001B[39m     \u001B[38;5;28;01mraise\u001B[39;00m InvalidMetadataError(\n\u001B[32m    245\u001B[39m         \u001B[33mf\u001B[39m\u001B[33m\"\u001B[39m\u001B[33mInvalid sdtype: \u001B[39m\u001B[33m'\u001B[39m\u001B[38;5;132;01m{\u001B[39;00msdtype\u001B[38;5;132;01m}\u001B[39;00m\u001B[33m'\u001B[39m\u001B[33m is not recognized. Please use one of the \u001B[39m\u001B[33m\"\u001B[39m\n\u001B[32m    246\u001B[39m         \u001B[33m'\u001B[39m\u001B[33msupported SDV sdtypes.\u001B[39m\u001B[33m'\u001B[39m\n\u001B[32m    247\u001B[39m     )\n",
      "\u001B[31mInvalidMetadataError\u001B[39m: Invalid sdtype: 'ordinal' is not recognized. Please use one of the supported SDV sdtypes."
     ]
    }
   ],
   "execution_count": 5
  },
  {
   "metadata": {},
   "cell_type": "code",
   "outputs": [],
   "execution_count": null,
   "source": [
    "# 6. data generieren\n",
    "num_samples = 1000\n",
    "synthetic_data = synthesizer.sample(num_samples)\n",
    "\n",
    "# 7. Speichern\n",
    "synthetic_data.to_csv(\"synthetic_data_ctgan.csv\", index=False)\n",
    "print(\"✅ 1000 synthetische Zeilen gespeichert als synthetic_data_ctgan.csv\")"
   ],
   "id": "2bb52bb5002910bd"
  }
 ],
 "metadata": {
  "kernelspec": {
   "display_name": "Python 3",
   "language": "python",
   "name": "python3"
  },
  "language_info": {
   "codemirror_mode": {
    "name": "ipython",
    "version": 2
   },
   "file_extension": ".py",
   "mimetype": "text/x-python",
   "name": "python",
   "nbconvert_exporter": "python",
   "pygments_lexer": "ipython2",
   "version": "2.7.6"
  }
 },
 "nbformat": 4,
 "nbformat_minor": 5
}
